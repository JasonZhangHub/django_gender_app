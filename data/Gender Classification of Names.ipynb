{
 "cells": [
  {
   "cell_type": "markdown",
   "metadata": {},
   "source": [
    "# <a name=\"0\">Gender Prediction</a>\n",
    "In this notebook, I will use the first name of the person and predict the person's gender.\n",
    "\n",
    "We will follow the next few steps:\n",
    "\n",
    "1. <a href=\"#1\">Read Dataset</a>\n",
    "2. <a href=\"#2\">Feature Extraction</a>\n",
    "3. <a href=\"#3\">Train Model</a>\n",
    "4. <a href=\"#4\">Save Model</a>"
   ]
  },
  {
   "cell_type": "markdown",
   "metadata": {},
   "source": [
    "## 1. <a name=\"1\">Read Dataset</a>\n",
    "(<a href=\"#0\">Go to top</a>)"
   ]
  },
  {
   "cell_type": "code",
   "execution_count": 1,
   "metadata": {
    "colab": {},
    "colab_type": "code",
    "id": "T86dki7w5ImB"
   },
   "outputs": [
    {
     "data": {
      "text/plain": [
       "(95025, 2)"
      ]
     },
     "execution_count": 1,
     "metadata": {},
     "output_type": "execute_result"
    }
   ],
   "source": [
    "import numpy as np\n",
    "import pandas as pd\n",
    "\n",
    "df=pd.read_csv('name_gender.csv', index_col=None, header=None, names=(['name','gender']))\n",
    "\n",
    "#lower the initials\n",
    "df['name'] = [i.lower() for i in df.name]\n",
    "\n",
    "#check the first 5 rows\n",
    "df.head(5)\n",
    "df.shape"
   ]
  },
  {
   "cell_type": "code",
   "execution_count": 2,
   "metadata": {
    "colab": {},
    "colab_type": "code",
    "id": "UUzQRZbsXW_T"
   },
   "outputs": [
    {
     "data": {
      "text/plain": [
       "95025"
      ]
     },
     "execution_count": 2,
     "metadata": {},
     "output_type": "execute_result"
    }
   ],
   "source": [
    "# look at the distribution of gender field\n",
    "df['gender'].value_counts()\n",
    "\n",
    "# check the number of missing values for each columm below.\n",
    "df.isna().sum()\n",
    "\n",
    "# cehck how many unique names\n",
    "len(df['name'].unique())"
   ]
  },
  {
   "cell_type": "markdown",
   "metadata": {},
   "source": [
    "## 2. <a name=\"2\">Feature Extraction</a>\n",
    "(<a href=\"#0\">Go to top</a>)"
   ]
  },
  {
   "cell_type": "code",
   "execution_count": 3,
   "metadata": {},
   "outputs": [],
   "source": [
    "from sklearn.preprocessing import LabelEncoder\n",
    "le=LabelEncoder()\n",
    "label=le.fit_transform(df['gender'])\n",
    "\n",
    "name= list(df['name'])"
   ]
  },
  {
   "cell_type": "code",
   "execution_count": 4,
   "metadata": {},
   "outputs": [],
   "source": [
    "from keras.preprocessing.text import Tokenizer\n",
    "tokenizer = Tokenizer(char_level=True)\n",
    "tokenizer.fit_on_texts(name)\n",
    "sequence_of_int = tokenizer.texts_to_sequences(name)"
   ]
  },
  {
   "cell_type": "code",
   "execution_count": 5,
   "metadata": {},
   "outputs": [
    {
     "data": {
      "text/plain": [
       "(95025, 15)"
      ]
     },
     "execution_count": 5,
     "metadata": {},
     "output_type": "execute_result"
    }
   ],
   "source": [
    "from keras.preprocessing.sequence import pad_sequences\n",
    "padsequences=pad_sequences(sequence_of_int,maxlen=15,padding='post')\n",
    "padsequences.shape"
   ]
  },
  {
   "cell_type": "code",
   "execution_count": 6,
   "metadata": {},
   "outputs": [],
   "source": [
    "from keras.utils.np_utils import to_categorical\n",
    "label=to_categorical(label)"
   ]
  },
  {
   "cell_type": "code",
   "execution_count": 7,
   "metadata": {},
   "outputs": [],
   "source": [
    "from sklearn.model_selection import train_test_split\n",
    " \n",
    "dfX_train, dfX_test, dfy_train, dfy_test = train_test_split(padsequences,\n",
    "                                                  label,\n",
    "                                                  test_size=0.30,\n",
    "                                                  shuffle=True,\n",
    "                                                  random_state=123\n",
    "                                                 )"
   ]
  },
  {
   "cell_type": "markdown",
   "metadata": {},
   "source": [
    "## 3. <a name=\"3\">Train Model</a>\n",
    "(<a href=\"#0\">Go to top</a>)"
   ]
  },
  {
   "cell_type": "code",
   "execution_count": 8,
   "metadata": {},
   "outputs": [],
   "source": [
    "from keras.models import Sequential\n",
    "from keras.layers import Dense,Conv1D,MaxPooling1D,LSTM,Embedding,Dropout"
   ]
  },
  {
   "cell_type": "code",
   "execution_count": 9,
   "metadata": {},
   "outputs": [
    {
     "name": "stdout",
     "output_type": "stream",
     "text": [
      "Model: \"sequential\"\n",
      "_________________________________________________________________\n",
      "Layer (type)                 Output Shape              Param #   \n",
      "=================================================================\n",
      "embedding (Embedding)        (None, 15, 64)            1728      \n",
      "_________________________________________________________________\n",
      "conv1d (Conv1D)              (None, 15, 32)            6176      \n",
      "_________________________________________________________________\n",
      "max_pooling1d (MaxPooling1D) (None, 7, 32)             0         \n",
      "_________________________________________________________________\n",
      "lstm (LSTM)                  (None, 256)               295936    \n",
      "_________________________________________________________________\n",
      "dropout (Dropout)            (None, 256)               0         \n",
      "_________________________________________________________________\n",
      "dense (Dense)                (None, 2)                 514       \n",
      "=================================================================\n",
      "Total params: 304,354\n",
      "Trainable params: 304,354\n",
      "Non-trainable params: 0\n",
      "_________________________________________________________________\n"
     ]
    }
   ],
   "source": [
    "# LSTM and CNN for sequence classification\n",
    "model=Sequential()\n",
    "model.add(Embedding(27,64,input_length=15))\n",
    "model.add(Conv1D(filters=32, kernel_size=3, padding='same', activation='relu'))\n",
    "model.add(MaxPooling1D(pool_size=2))\n",
    "model.add(LSTM(256))\n",
    "model.add(Dropout(0.2))\n",
    "model.add(Dense(2,activation='sigmoid'))\n",
    "\n",
    "model.compile(loss='binary_crossentropy',\n",
    "              optimizer='adam',\n",
    "              metrics=['accuracy'])\n",
    "model.summary()"
   ]
  },
  {
   "cell_type": "code",
   "execution_count": 10,
   "metadata": {},
   "outputs": [
    {
     "name": "stdout",
     "output_type": "stream",
     "text": [
      "Epoch 1/10\n",
      "67/67 [==============================] - 14s 185ms/step - loss: 0.6259 - accuracy: 0.6369 - val_loss: 0.4110 - val_accuracy: 0.8192\n",
      "Epoch 2/10\n",
      "67/67 [==============================] - 13s 189ms/step - loss: 0.3895 - accuracy: 0.8302 - val_loss: 0.3670 - val_accuracy: 0.8401\n",
      "Epoch 3/10\n",
      "67/67 [==============================] - 13s 195ms/step - loss: 0.3658 - accuracy: 0.8425 - val_loss: 0.3511 - val_accuracy: 0.8465\n",
      "Epoch 4/10\n",
      "67/67 [==============================] - 13s 196ms/step - loss: 0.3469 - accuracy: 0.8512 - val_loss: 0.3446 - val_accuracy: 0.8500\n",
      "Epoch 5/10\n",
      "67/67 [==============================] - 13s 196ms/step - loss: 0.3354 - accuracy: 0.8571 - val_loss: 0.3339 - val_accuracy: 0.8574\n",
      "Epoch 6/10\n",
      "67/67 [==============================] - 13s 193ms/step - loss: 0.3260 - accuracy: 0.8608 - val_loss: 0.3239 - val_accuracy: 0.8611\n",
      "Epoch 7/10\n",
      "67/67 [==============================] - 13s 194ms/step - loss: 0.3156 - accuracy: 0.8666 - val_loss: 0.3234 - val_accuracy: 0.8620\n",
      "Epoch 8/10\n",
      "67/67 [==============================] - 13s 195ms/step - loss: 0.3101 - accuracy: 0.8689 - val_loss: 0.3196 - val_accuracy: 0.8616\n",
      "Epoch 9/10\n",
      "67/67 [==============================] - 13s 195ms/step - loss: 0.3044 - accuracy: 0.8712 - val_loss: 0.3162 - val_accuracy: 0.8650\n",
      "Epoch 10/10\n",
      "67/67 [==============================] - 13s 193ms/step - loss: 0.3003 - accuracy: 0.8734 - val_loss: 0.3145 - val_accuracy: 0.8647\n"
     ]
    },
    {
     "data": {
      "text/plain": [
       "<tensorflow.python.keras.callbacks.History at 0x268e6652820>"
      ]
     },
     "execution_count": 10,
     "metadata": {},
     "output_type": "execute_result"
    }
   ],
   "source": [
    "epochs = 10\n",
    "batch_size = 1000\n",
    "\n",
    "model.fit(dfX_train,\n",
    "          dfy_train,\n",
    "          epochs=epochs,\n",
    "          validation_data=(dfX_test,dfy_test),\n",
    "          batch_size=batch_size)"
   ]
  },
  {
   "cell_type": "code",
   "execution_count": 11,
   "metadata": {},
   "outputs": [
    {
     "name": "stdout",
     "output_type": "stream",
     "text": [
      "Accuracy of model:  86.47397221832468 %.\n",
      "              precision    recall  f1-score   support\n",
      "\n",
      "           0       0.92      0.86      0.89     18131\n",
      "           1       0.78      0.87      0.82     10377\n",
      "\n",
      "    accuracy                           0.86     28508\n",
      "   macro avg       0.85      0.87      0.86     28508\n",
      "weighted avg       0.87      0.86      0.87     28508\n",
      "\n"
     ]
    }
   ],
   "source": [
    "#Evaluate the model accuracy\n",
    "import sklearn.metrics as m\n",
    "label_pred=model.predict(dfX_test)\n",
    "label_pred=np.argmax(label_pred,axis=1)\n",
    "label_test=np.argmax(dfy_test,axis=1)\n",
    "\n",
    "print(\"Accuracy of model: \", m.accuracy_score(label_test,label_pred)*100, \"%.\")\n",
    "print(m.classification_report(label_test,label_pred))"
   ]
  },
  {
   "cell_type": "markdown",
   "metadata": {},
   "source": [
    "## 4. <a name=\"4\">Save Model</a>\n",
    "(<a href=\"#0\">Go to top</a>)"
   ]
  },
  {
   "cell_type": "code",
   "execution_count": 12,
   "metadata": {},
   "outputs": [],
   "source": [
    "model.save('model.h5')\n",
    "\n",
    "import pickle\n",
    "pickle.dump(tokenizer,open('tokenizer.pkl','wb+'))"
   ]
  }
 ],
 "metadata": {
  "accelerator": "GPU",
  "colab": {
   "name": "model.ipynb",
   "provenance": []
  },
  "kernelspec": {
   "display_name": "Python 3",
   "language": "python",
   "name": "python3"
  },
  "language_info": {
   "codemirror_mode": {
    "name": "ipython",
    "version": 3
   },
   "file_extension": ".py",
   "mimetype": "text/x-python",
   "name": "python",
   "nbconvert_exporter": "python",
   "pygments_lexer": "ipython3",
   "version": "3.8.3"
  }
 },
 "nbformat": 4,
 "nbformat_minor": 1
}
